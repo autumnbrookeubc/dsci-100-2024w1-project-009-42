{
 "cells": [
  {
   "cell_type": "code",
   "execution_count": null,
   "id": "10e9c7b8-3791-4c52-b79b-062a22c2f21f",
   "metadata": {},
   "outputs": [],
   "source": []
  }
 ],
 "metadata": {
  "kernelspec": {
   "display_name": "R",
   "language": "R",
   "name": "ir"
  },
  "language_info": {
   "codemirror_mode": "r",
   "file_extension": ".r",
   "mimetype": "text/x-r-source",
   "name": "R",
   "pygments_lexer": "r",
   "version": "4.3.3"
  }
 },
 "nbformat": 4,
 "nbformat_minor": 5
}
